{
 "cells": [
  {
   "cell_type": "markdown",
   "metadata": {},
   "source": [
    "# MDG NAP Preliminary Analysis"
   ]
  },
  {
   "cell_type": "code",
   "execution_count": 48,
   "metadata": {
    "collapsed": false
   },
   "outputs": [],
   "source": [
    "import pandas as pd\n",
    "import matplotlib.pyplot as plt\n",
    "from sqlalchemy import create_engine\n",
    "import plotly.plotly as py\n",
    "import plotly.graph_objs as go\n",
    "\n",
    "engine = create_engine('postgresql://postgres@localhost:5433/cartodb_user_fddc7a0f-c829-4ec0-a4b8-212ec7ce9ad1_db')\n",
    "sql_rast_mean_by_region = \"\"\"\n",
    "SELECT {group_by},\n",
    "(ST_SummaryStatsAgg(ST_Clip(the_raster_webmercator, the_geom_webmercator, {na_value}, true), 1, true)).* \n",
    "FROM {raster}, {poly}\n",
    "WHERE ST_Intersects(the_raster_webmercator, the_geom_webmercator)\n",
    "GROUP BY {group_by};\n",
    "\"\"\"\n",
    "\n",
    "# General function to compare series\n",
    "def plot_comparison(df, x_var, y_var, x_label, y_label, size=1):\n",
    "    trace = go.Scatter(\n",
    "        x = df[x_var],\n",
    "        y = df[y_var],\n",
    "        text = df.index,\n",
    "        mode = 'markers',\n",
    "        marker = dict (\n",
    "            size = size\n",
    "        )\n",
    "    )\n",
    "    layout = go.Layout(\n",
    "        xaxis=dict(title=x_label),\n",
    "        yaxis=dict(title=y_label)\n",
    "    )\n",
    "    data = [trace]\n",
    "    fig = go.Figure(data=data, layout=layout)\n",
    "    return(py.iplot(fig, filename='basic-scatter'))\n",
    "\n",
    "# General function to compare two rasters by adm2 region\n",
    "def get_rast_mean_by_region(rast, region=\"(select * from gadm28_adm2 where iso in ('MDG')) as regions\"):\n",
    "    key = {'raster': rast[1], # This is the raster table name\n",
    "           'poly': region,\n",
    "           'na_value': -9999,\n",
    "           'group_by': 'name_2'}\n",
    "    df = pd.read_sql_query(sql_rast_mean_by_region.format(**key), con=engine)\n",
    "    df['variable'] = rast[0] # This is a short name for the raster\n",
    "    return(df)"
   ]
  },
  {
   "cell_type": "code",
   "execution_count": 50,
   "metadata": {
    "collapsed": false
   },
   "outputs": [
    {
     "data": {
      "text/html": [
       "<iframe id=\"igraph\" scrolling=\"no\" style=\"border:none;\" seamless=\"seamless\" src=\"https://plot.ly/~azvoleff/47.embed\" height=\"525px\" width=\"100%\"></iframe>"
      ],
      "text/plain": [
       "<plotly.tools.PlotlyDisplay object>"
      ]
     },
     "execution_count": 50,
     "metadata": {},
     "output_type": "execute_result"
    }
   ],
   "source": [
    "plot_comparison(df_commune,\n",
    "                x_var='food_insecurity', y_var='precip',\n",
    "                x_label='Percentage food insecure in ??', y_label='Precipitation change (%)',\n",
    "                size='pop')"
   ]
  },
  {
   "cell_type": "code",
   "execution_count": 29,
   "metadata": {
    "collapsed": false
   },
   "outputs": [
    {
     "name": "stdout",
     "output_type": "stream",
     "text": [
      "                           precip       temp  food_insecurity\n",
      "first_nom_                                                   \n",
      "NaN                      0.073770   2.140697              0.0\n",
      "Bekobay                  2.122728  11.261433             30.0\n",
      "Ambohimiera             -6.410193  14.191587             90.0\n",
      "Antanimandry            -4.089653  21.092957             20.0\n",
      "Manambolo               -1.956413  12.906124             65.0\n",
      "Ampasimaneva            -5.966038  15.001510             80.0\n",
      "Andapa                  -1.757359  12.985084             10.0\n",
      "Andaingo                -3.669198  14.901495             35.0\n",
      "Anjeva                  -4.302230  16.623657             30.0\n",
      "Mandronarivo            -2.032313  12.818932             37.0\n",
      "Ankalalobe               0.113270  11.970594             95.0\n",
      "Maromavo                 1.182548  11.321694             30.0\n",
      "Besalampy                2.046519  10.865229             26.0\n",
      "Manakana                -3.049476  14.142923             77.0\n",
      "Manakana                -3.049476  14.142923             30.0\n",
      "Antanandehibe           -7.181411  12.825882             67.3\n",
      "Ambodimotso_Atsimo       2.023753  12.779450             30.0\n",
      "Bemasoandro             -3.653762  15.997500             50.0\n",
      "Kopoky                  -3.429817  12.049478             54.0\n",
      "Soanierana-Ivongo       -2.394466  11.357805             83.0\n",
      "Ambakirano              -0.543570  11.317711              0.0\n",
      "Analampasina            -6.190836  13.506966             90.0\n",
      "Mavorano                -8.159568  11.099654             70.0\n",
      "Ampasimatera             2.165860  12.811259             40.0\n",
      "Amborompotsy            -2.970997  14.508907              5.0\n",
      "Amborompotsy            -2.970997  14.508907             30.0\n",
      "Ampasimbe_Manantsatrana -2.407134  11.336586             58.0\n",
      "Milanoa                 -1.804588  11.441948             80.0\n",
      "Amboronabo              -1.300698  13.384607             20.0\n",
      "Ehara                   -2.709960  13.331690             45.0\n",
      "...                           ...        ...              ...\n",
      "Fenoarivo               -4.231854  15.020229             90.0\n",
      "Fenoarivo               -4.231854  15.020229             45.0\n",
      "Ifantsy                 -7.642360  11.279298             70.0\n",
      "Beroy                   -2.724046  13.037568             21.0\n",
      "Antaretra               -7.257300  12.302244             90.0\n",
      "Eloty                   -3.469380  13.516930             40.0\n",
      "Betsakotsako            -1.665532  12.789565             80.0\n",
      "Ampohibe                -1.935287  10.578346             70.0\n",
      "Andoharanomaitso        -4.865252  15.660918             77.0\n",
      "Matsohely               -1.691449  12.765951             59.0\n",
      "Ankiabe_Salohy           1.625134  13.037041             50.0\n",
      "Antongomena_Bevary       1.387832   9.850200             30.0\n",
      "Anjoma Nandihizana      -5.606623  16.790685             79.5\n",
      "MampikonyII              1.709802  12.222570             40.0\n",
      "Antsahavaribe           -2.161705  12.469493              0.0\n",
      "Antsahavaribe           -2.161705  12.469493             65.0\n",
      "Antondabe               -4.625217  14.123590             70.0\n",
      "Belambo                 -3.201088  14.204620             40.0\n",
      "Belambo                 -3.201088  14.204620             35.0\n",
      "Ambodimadiro             1.039680  10.567746             67.0\n",
      "Isoanala                -3.344699  13.788093             20.0\n",
      "Antsahampano             0.800099   9.670618             50.0\n",
      "Mandiso                 -6.362247  12.860157             20.0\n",
      "Satrokala               -2.899090  14.507061             65.0\n",
      "Maliorano               -4.796425  14.039768             53.0\n",
      "Bemanevika              -1.347581  11.288589             20.0\n",
      "Bemanevika              -1.347581  11.288589              0.5\n",
      "Anosiala                -3.394087  16.038623             25.0\n",
      "Cap Diègo                0.712226   7.694563              5.0\n",
      "Anjahambe               -2.623033  12.092655             24.0\n",
      "\n",
      "[1394 rows x 3 columns]\n"
     ]
    }
   ],
   "source": []
  },
  {
   "cell_type": "markdown",
   "metadata": {},
   "source": [
    "## Agriculture / water"
   ]
  },
  {
   "cell_type": "markdown",
   "metadata": {},
   "source": [
    "### Climate trends"
   ]
  },
  {
   "cell_type": "code",
   "execution_count": 3,
   "metadata": {
    "collapsed": false
   },
   "outputs": [
    {
     "data": {
      "text/html": [
       "<iframe id=\"igraph\" scrolling=\"no\" style=\"border:none;\" seamless=\"seamless\" src=\"https://plot.ly/~azvoleff/47.embed\" height=\"525px\" width=\"100%\"></iframe>"
      ],
      "text/plain": [
       "<plotly.tools.PlotlyDisplay object>"
      ]
     },
     "execution_count": 3,
     "metadata": {},
     "output_type": "execute_result"
    }
   ],
   "source": [
    "rast_comp =({'precip':'total_annual_rainfall_multimodel_pctdiff_mean_85_50_mdg',\n",
    "             'temp':'total_annual_temperature_multimodel_pctdiff_mean_8570_mdg'})\n",
    "df = pd.concat([get_rast_mean_by_region(rast) for rast in rast_comp.items()])\n",
    "plot_comparison(df.pivot(index='name_2', columns='variable', values='mean'),\n",
    "                x_var='temp', y_var='precip',\n",
    "                x_label='Temperature change (°C)', y_label='Precipitation change (%)')"
   ]
  },
  {
   "cell_type": "markdown",
   "metadata": {},
   "source": [
    "### Health versus climate"
   ]
  },
  {
   "cell_type": "code",
   "execution_count": 16,
   "metadata": {
    "collapsed": false
   },
   "outputs": [],
   "source": [
    "# Pull precipitation trends\n",
    "key = {'raster': 'total_annual_rainfall_multimodel_pctdiff_mean_85_50_mdg',\n",
    "       'poly': 'sdr_subnational_data_dhs_2008',\n",
    "       'na_value': -9999,\n",
    "       'group_by': 'dhsregen'}\n",
    "df_rain = pd.read_sql_query(sql_rast_mean_by_region.format(**key), con=engine)\n",
    "df_rain = df_rain.rename(columns={'mean':'precip'})\n",
    "\n",
    "# Pull temperature trends\n",
    "key = {'raster': 'total_annual_temperature_multimodel_pctdiff_mean_8570_mdg',\n",
    "       'poly': 'sdr_subnational_data_dhs_2008',\n",
    "       'na_value': -9999,\n",
    "       'group_by': 'dhsregen'}\n",
    "df_temp = pd.read_sql_query(sql_rast_mean_by_region.format(**key), con=engine)\n",
    "df_temp = df_temp.rename(columns={'mean':'temp'})\n",
    "\n",
    "# Merge both climate datasets\n",
    "df_clim = pd.merge(df_rain[['dhsregen', 'precip']], df_temp[['dhsregen', 'temp']])\n",
    "\n",
    "# Pull health data\n",
    "df_health = pd.read_sql_query('select cnnutscha2 as stunting, cmecmrcimr as imr, mlitnapacc as pct_access_nets, dhsregen from sdr_subnational_data_dhs_2008', con=engine)\n",
    "df_health = pd.merge(df_clim[['dhsregen', 'precip', 'temp']], df_health)\n",
    "df_health = df_health.set_index('dhsregen')"
   ]
  },
  {
   "cell_type": "markdown",
   "metadata": {},
   "source": [
    "#### Stunting"
   ]
  },
  {
   "cell_type": "code",
   "execution_count": 17,
   "metadata": {
    "collapsed": false
   },
   "outputs": [
    {
     "data": {
      "text/html": [
       "<iframe id=\"igraph\" scrolling=\"no\" style=\"border:none;\" seamless=\"seamless\" src=\"https://plot.ly/~azvoleff/47.embed\" height=\"525px\" width=\"100%\"></iframe>"
      ],
      "text/plain": [
       "<plotly.tools.PlotlyDisplay object>"
      ]
     },
     "execution_count": 17,
     "metadata": {},
     "output_type": "execute_result"
    }
   ],
   "source": [
    "plot_comparison(df_health,\n",
    "                x_var='stunting', y_var='precip',\n",
    "                x_label='Children that are stunted (%)', y_label='Precipitation change (%)')"
   ]
  },
  {
   "cell_type": "code",
   "execution_count": 18,
   "metadata": {
    "collapsed": false
   },
   "outputs": [
    {
     "data": {
      "text/html": [
       "<iframe id=\"igraph\" scrolling=\"no\" style=\"border:none;\" seamless=\"seamless\" src=\"https://plot.ly/~azvoleff/47.embed\" height=\"525px\" width=\"100%\"></iframe>"
      ],
      "text/plain": [
       "<plotly.tools.PlotlyDisplay object>"
      ]
     },
     "execution_count": 18,
     "metadata": {},
     "output_type": "execute_result"
    }
   ],
   "source": [
    "plot_comparison(df_health,\n",
    "                x_var='stunting', y_var='temp',\n",
    "                x_label='Children that are stunted (%)', y_label='Temperature change (%)')"
   ]
  },
  {
   "cell_type": "markdown",
   "metadata": {},
   "source": [
    "#### Infant mortality rates"
   ]
  },
  {
   "cell_type": "code",
   "execution_count": 19,
   "metadata": {
    "collapsed": false
   },
   "outputs": [
    {
     "data": {
      "text/html": [
       "<iframe id=\"igraph\" scrolling=\"no\" style=\"border:none;\" seamless=\"seamless\" src=\"https://plot.ly/~azvoleff/47.embed\" height=\"525px\" width=\"100%\"></iframe>"
      ],
      "text/plain": [
       "<plotly.tools.PlotlyDisplay object>"
      ]
     },
     "execution_count": 19,
     "metadata": {},
     "output_type": "execute_result"
    }
   ],
   "source": [
    "plot_comparison(df_health,\n",
    "                x_var='imr', y_var='precip',\n",
    "                x_label='Infant mortality rate', y_label='Precipitation change (%)')"
   ]
  },
  {
   "cell_type": "code",
   "execution_count": 20,
   "metadata": {
    "collapsed": false
   },
   "outputs": [
    {
     "data": {
      "text/html": [
       "<iframe id=\"igraph\" scrolling=\"no\" style=\"border:none;\" seamless=\"seamless\" src=\"https://plot.ly/~azvoleff/47.embed\" height=\"525px\" width=\"100%\"></iframe>"
      ],
      "text/plain": [
       "<plotly.tools.PlotlyDisplay object>"
      ]
     },
     "execution_count": 20,
     "metadata": {},
     "output_type": "execute_result"
    }
   ],
   "source": [
    "plot_comparison(df_health,\n",
    "                x_var='imr', y_var='temp',\n",
    "                x_label='Infant mortality rate', y_label='Temperature change (%)')"
   ]
  },
  {
   "cell_type": "markdown",
   "metadata": {},
   "source": [
    "#### Access to bed nets"
   ]
  },
  {
   "cell_type": "code",
   "execution_count": 21,
   "metadata": {
    "collapsed": false
   },
   "outputs": [
    {
     "data": {
      "text/html": [
       "<iframe id=\"igraph\" scrolling=\"no\" style=\"border:none;\" seamless=\"seamless\" src=\"https://plot.ly/~azvoleff/47.embed\" height=\"525px\" width=\"100%\"></iframe>"
      ],
      "text/plain": [
       "<plotly.tools.PlotlyDisplay object>"
      ]
     },
     "execution_count": 21,
     "metadata": {},
     "output_type": "execute_result"
    }
   ],
   "source": [
    "plot_comparison(df_health,\n",
    "                x_var='pct_access_nets', y_var='precip',\n",
    "                x_label='Percentage with access to insecticide treated nets', y_label='Precipitation change (%)')"
   ]
  },
  {
   "cell_type": "code",
   "execution_count": 22,
   "metadata": {
    "collapsed": false
   },
   "outputs": [
    {
     "data": {
      "text/html": [
       "<iframe id=\"igraph\" scrolling=\"no\" style=\"border:none;\" seamless=\"seamless\" src=\"https://plot.ly/~azvoleff/47.embed\" height=\"525px\" width=\"100%\"></iframe>"
      ],
      "text/plain": [
       "<plotly.tools.PlotlyDisplay object>"
      ]
     },
     "execution_count": 22,
     "metadata": {},
     "output_type": "execute_result"
    }
   ],
   "source": [
    "plot_comparison(df_health,\n",
    "                x_var='pct_access_nets', y_var='temp',\n",
    "                x_label='Percentage with access to insecticide treated nets', y_label='Temperature change (%)')"
   ]
  },
  {
   "cell_type": "markdown",
   "metadata": {},
   "source": [
    "#### Climate food security"
   ]
  },
  {
   "cell_type": "code",
   "execution_count": 45,
   "metadata": {
    "collapsed": false
   },
   "outputs": [],
   "source": [
    "# Pull precipitation trends\n",
    "key = {'raster': 'total_annual_rainfall_multimodel_pctdiff_mean_85_50_mdg',\n",
    "       'poly': 'communes_poverty_fid_2007',\n",
    "       'na_value': -9999,\n",
    "       'group_by': 'first_nom_'}\n",
    "df_rain = pd.read_sql_query(sql_rast_mean_by_region.format(**key), con=engine)\n",
    "df_rain = df_rain.rename(columns={'mean':'precip'})\n",
    "\n",
    "# Pull temperature trends\n",
    "key = {'raster': 'total_annual_temperature_multimodel_pctdiff_mean_8570_mdg',\n",
    "       'poly': 'communes_poverty_fid_2007',\n",
    "       'na_value': -9999,\n",
    "       'group_by': 'first_nom_'}\n",
    "df_temp = pd.read_sql_query(sql_rast_mean_by_region.format(**key), con=engine)\n",
    "df_temp = df_temp.rename(columns={'mean':'temp'})\n",
    "\n",
    "# Pull population\n",
    "key = {'raster': 'lspop2014',\n",
    "       'poly': 'communes_poverty_fid_2007',\n",
    "       'na_value': -9999,\n",
    "       'group_by': 'first_nom_'}\n",
    "df_pop = pd.read_sql_query(sql_rast_mean_by_region.format(**key), con=engine)\n",
    "df_pop = df_pop.rename(columns={'sum':'pop'})\n",
    "#print df_pop[df_pop['pop'] == df_pop['pop'].max()]\n",
    "#print df_pop['pop'].sum()\n",
    "\n",
    "# Merge climate and population datasets\n",
    "df_clim = pd.merge(df_rain[['first_nom_', 'precip']], df_temp[['first_nom_', 'temp']])\n",
    "df_clim = pd.merge(df_clim, df_pop[['first_nom_', 'pop']])\n",
    "\n",
    "# Pull health data\n",
    "df_commune = pd.read_sql_query('select poor_per as food_insecurity, first_nom_ from communes_poverty_fid_2007', con=engine)\n",
    "df_commune = pd.merge(df_clim[['first_nom_', 'precip', 'temp']], df_commune)\n",
    "df_commune = df_commune.set_index('first_nom_')"
   ]
  },
  {
   "cell_type": "code",
   "execution_count": 49,
   "metadata": {
    "collapsed": false
   },
   "outputs": [
    {
     "data": {
      "text/html": [
       "<iframe id=\"igraph\" scrolling=\"no\" style=\"border:none;\" seamless=\"seamless\" src=\"https://plot.ly/~azvoleff/47.embed\" height=\"525px\" width=\"100%\"></iframe>"
      ],
      "text/plain": [
       "<plotly.tools.PlotlyDisplay object>"
      ]
     },
     "execution_count": 49,
     "metadata": {},
     "output_type": "execute_result"
    }
   ],
   "source": [
    "plot_comparison(df_commune,\n",
    "                x_var='food_insecurity', y_var='precip',\n",
    "                x_label='Percentage food insecure in ??', y_label='Precipitation change (%)',\n",
    "                size='pop')"
   ]
  },
  {
   "cell_type": "code",
   "execution_count": 32,
   "metadata": {
    "collapsed": false
   },
   "outputs": [
    {
     "data": {
      "text/html": [
       "<iframe id=\"igraph\" scrolling=\"no\" style=\"border:none;\" seamless=\"seamless\" src=\"https://plot.ly/~azvoleff/47.embed\" height=\"525px\" width=\"100%\"></iframe>"
      ],
      "text/plain": [
       "<plotly.tools.PlotlyDisplay object>"
      ]
     },
     "execution_count": 32,
     "metadata": {},
     "output_type": "execute_result"
    }
   ],
   "source": [
    "plot_comparison(df_commune,\n",
    "                x_var='food_insecurity', y_var='temp',\n",
    "                x_label='Percentage food insecure in ??', y_label='Temperature change (%)')"
   ]
  },
  {
   "cell_type": "code",
   "execution_count": 29,
   "metadata": {
    "collapsed": false
   },
   "outputs": [
    {
     "name": "stdout",
     "output_type": "stream",
     "text": [
      "                           precip       temp  food_insecurity\n",
      "first_nom_                                                   \n",
      "NaN                      0.073770   2.140697              0.0\n",
      "Bekobay                  2.122728  11.261433             30.0\n",
      "Ambohimiera             -6.410193  14.191587             90.0\n",
      "Antanimandry            -4.089653  21.092957             20.0\n",
      "Manambolo               -1.956413  12.906124             65.0\n",
      "Ampasimaneva            -5.966038  15.001510             80.0\n",
      "Andapa                  -1.757359  12.985084             10.0\n",
      "Andaingo                -3.669198  14.901495             35.0\n",
      "Anjeva                  -4.302230  16.623657             30.0\n",
      "Mandronarivo            -2.032313  12.818932             37.0\n",
      "Ankalalobe               0.113270  11.970594             95.0\n",
      "Maromavo                 1.182548  11.321694             30.0\n",
      "Besalampy                2.046519  10.865229             26.0\n",
      "Manakana                -3.049476  14.142923             77.0\n",
      "Manakana                -3.049476  14.142923             30.0\n",
      "Antanandehibe           -7.181411  12.825882             67.3\n",
      "Ambodimotso_Atsimo       2.023753  12.779450             30.0\n",
      "Bemasoandro             -3.653762  15.997500             50.0\n",
      "Kopoky                  -3.429817  12.049478             54.0\n",
      "Soanierana-Ivongo       -2.394466  11.357805             83.0\n",
      "Ambakirano              -0.543570  11.317711              0.0\n",
      "Analampasina            -6.190836  13.506966             90.0\n",
      "Mavorano                -8.159568  11.099654             70.0\n",
      "Ampasimatera             2.165860  12.811259             40.0\n",
      "Amborompotsy            -2.970997  14.508907              5.0\n",
      "Amborompotsy            -2.970997  14.508907             30.0\n",
      "Ampasimbe_Manantsatrana -2.407134  11.336586             58.0\n",
      "Milanoa                 -1.804588  11.441948             80.0\n",
      "Amboronabo              -1.300698  13.384607             20.0\n",
      "Ehara                   -2.709960  13.331690             45.0\n",
      "...                           ...        ...              ...\n",
      "Fenoarivo               -4.231854  15.020229             90.0\n",
      "Fenoarivo               -4.231854  15.020229             45.0\n",
      "Ifantsy                 -7.642360  11.279298             70.0\n",
      "Beroy                   -2.724046  13.037568             21.0\n",
      "Antaretra               -7.257300  12.302244             90.0\n",
      "Eloty                   -3.469380  13.516930             40.0\n",
      "Betsakotsako            -1.665532  12.789565             80.0\n",
      "Ampohibe                -1.935287  10.578346             70.0\n",
      "Andoharanomaitso        -4.865252  15.660918             77.0\n",
      "Matsohely               -1.691449  12.765951             59.0\n",
      "Ankiabe_Salohy           1.625134  13.037041             50.0\n",
      "Antongomena_Bevary       1.387832   9.850200             30.0\n",
      "Anjoma Nandihizana      -5.606623  16.790685             79.5\n",
      "MampikonyII              1.709802  12.222570             40.0\n",
      "Antsahavaribe           -2.161705  12.469493              0.0\n",
      "Antsahavaribe           -2.161705  12.469493             65.0\n",
      "Antondabe               -4.625217  14.123590             70.0\n",
      "Belambo                 -3.201088  14.204620             40.0\n",
      "Belambo                 -3.201088  14.204620             35.0\n",
      "Ambodimadiro             1.039680  10.567746             67.0\n",
      "Isoanala                -3.344699  13.788093             20.0\n",
      "Antsahampano             0.800099   9.670618             50.0\n",
      "Mandiso                 -6.362247  12.860157             20.0\n",
      "Satrokala               -2.899090  14.507061             65.0\n",
      "Maliorano               -4.796425  14.039768             53.0\n",
      "Bemanevika              -1.347581  11.288589             20.0\n",
      "Bemanevika              -1.347581  11.288589              0.5\n",
      "Anosiala                -3.394087  16.038623             25.0\n",
      "Cap Diègo                0.712226   7.694563              5.0\n",
      "Anjahambe               -2.623033  12.092655             24.0\n",
      "\n",
      "[1394 rows x 3 columns]\n"
     ]
    }
   ],
   "source": []
  },
  {
   "cell_type": "markdown",
   "metadata": {},
   "source": [
    "#### Climate versus essential natural capital for food security"
   ]
  },
  {
   "cell_type": "markdown",
   "metadata": {},
   "source": [
    "#### Climate versus rice"
   ]
  },
  {
   "cell_type": "code",
   "execution_count": null,
   "metadata": {
    "collapsed": true
   },
   "outputs": [],
   "source": []
  }
 ],
 "metadata": {
  "anaconda-cloud": {},
  "kernelspec": {
   "display_name": "Python [default]",
   "language": "python",
   "name": "python2"
  },
  "language_info": {
   "codemirror_mode": {
    "name": "ipython",
    "version": 2
   },
   "file_extension": ".py",
   "mimetype": "text/x-python",
   "name": "python",
   "nbconvert_exporter": "python",
   "pygments_lexer": "ipython2",
   "version": "2.7.12"
  }
 },
 "nbformat": 4,
 "nbformat_minor": 1
}
